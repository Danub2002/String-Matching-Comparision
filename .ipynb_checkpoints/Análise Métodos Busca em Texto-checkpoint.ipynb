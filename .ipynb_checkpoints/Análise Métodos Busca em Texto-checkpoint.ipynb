{
 "cells": [
  {
   "cell_type": "code",
   "execution_count": 2,
   "id": "f3f678fd",
   "metadata": {},
   "outputs": [],
   "source": [
    "import BM\n",
    "import BMH\n",
    "import KMP\n",
    "import RK"
   ]
  },
  {
   "cell_type": "code",
   "execution_count": 4,
   "id": "e429d2aa",
   "metadata": {},
   "outputs": [],
   "source": [
    "K = [2, 4, 16, 32]\n",
    "M = [2, 4, 6, 8, 10, 12, 14]\n",
    "\n",
    "N = 1000\n",
    "\n",
    "char = [\"a\", \"b\", \"c\", \"d\", \"e\", \"f\", \"g\", \"h\", \"i\", \"j\", \"k\", \"l\", \"m\", \"n\", \"o\", \"p\", \"q\", \"r\", \"s\", \"t\",\n",
    "        \"u\", \"v\", \"x\", \"w\", \"y\", \"z\", \"!\", \"@\", \"#\", \"$\", \"%\", \"&\"]"
   ]
  },
  {
   "cell_type": "code",
   "execution_count": 8,
   "id": "6fe26a0e",
   "metadata": {},
   "outputs": [
    {
     "data": {
      "text/plain": [
       "40"
      ]
     },
     "execution_count": 8,
     "metadata": {},
     "output_type": "execute_result"
    }
   ],
   "source": [
    "import random\n",
    "\n",
    "texts = []\n",
    "\n",
    "for k in K:\n",
    "    used_char = char[:k]\n",
    "    for i in range(0,10):\n",
    "        text = \"\"\n",
    "        for k in range(0,1000):\n",
    "            text += random.choice(used_char)\n",
    "        texts.append(text)\n",
    "\n",
    "#[0:9] - padrões de K2\n",
    "#[10:19] - padrões de K4\n",
    "#[20:29] - padrões de K16\n",
    "#[30:39] - padrões de K32"
   ]
  },
  {
   "cell_type": "code",
   "execution_count": 10,
   "id": "83f29516",
   "metadata": {},
   "outputs": [
    {
     "data": {
      "text/plain": [
       "280"
      ]
     },
     "execution_count": 10,
     "metadata": {},
     "output_type": "execute_result"
    }
   ],
   "source": [
    "patterns = []\n",
    "\n",
    "for m in M:\n",
    "    for text in texts:\n",
    "        pattern = text[len(text)-m:]\n",
    "        patterns.append(pattern)\n",
    "\n",
    "len(patterns)\n",
    "\n",
    "#[0:9] --> k = 2, m = 2\n",
    "#[10:19] --> k = 4, m = 2\n",
    "#[20:29] --> k = 16, m = 2\n",
    "#[30:39] --> k = 32, m = 2\n",
    "\n",
    "#[40:49] --> k = 2, m = 4\n",
    "#[50:59] --> k = 4, m = 4\n",
    "#[60:69] --> k = 16, m = 4\n",
    "#[70:79] --> k = 32, m = 4\n",
    "\n",
    "#[80:89] --> k = 2, m = 6\n",
    "#[90:99] --> k = 4, m = 6\n",
    "#[100:109] --> k = 16, m = 6\n",
    "#[110:119] --> k = 32, m = 6\n",
    "\n",
    "#[120:129] --> k = 2, m = 8\n",
    "#[130:139] --> k = 4, m = 8\n",
    "#[140:149] --> k = 16, m = 8\n",
    "#[150:159] --> k = 32, m = 8\n",
    "\n",
    "#[160:169] --> k = 2, m = 10\n",
    "#[170:179] --> k = 4, m = 10\n",
    "#[180:189] --> k = 16, m = 10\n",
    "#[190:199] --> k = 32, m = 10\n",
    "\n",
    "#[200:209] --> k = 2, m = 2\n",
    "#[210:219] --> k = 4, m = 2\n",
    "#[220:229] --> k = 16, m = 2\n",
    "#[230:239] --> k = 32, m = 2\n",
    "\n",
    "#[240:249] --> k = 2, m = 2\n",
    "#[250:259] --> k = 4, m = 2\n",
    "#[260:269] --> k = 16, m = 2\n",
    "#[270:279] --> k = 32, m = 2"
   ]
  }
 ],
 "metadata": {
  "kernelspec": {
   "display_name": "Python 3",
   "language": "python",
   "name": "python3"
  },
  "language_info": {
   "codemirror_mode": {
    "name": "ipython",
    "version": 3
   },
   "file_extension": ".py",
   "mimetype": "text/x-python",
   "name": "python",
   "nbconvert_exporter": "python",
   "pygments_lexer": "ipython3",
   "version": "3.8.8"
  }
 },
 "nbformat": 4,
 "nbformat_minor": 5
}
